{
  "cells": [
    {
      "metadata": {},
      "cell_type": "markdown",
      "source": "<img src='https://www.insaid.co/wp-content/uploads/2018/04/INSAID_Logo-1.png' height=\"240\" width=\"360\"/>\n<br/>\n# Python basics"
    },
    {
      "metadata": {
        "trusted": true
      },
      "cell_type": "code",
      "source": "print(\"Suchit's\")",
      "execution_count": 14,
      "outputs": [
        {
          "output_type": "stream",
          "text": "Suchit's\n",
          "name": "stdout"
        }
      ]
    },
    {
      "metadata": {},
      "cell_type": "markdown",
      "source": "# I found this very handy"
    },
    {
      "metadata": {
        "trusted": true
      },
      "cell_type": "code",
      "source": "'''I found this handy'''\nprint('I found this very handy')",
      "execution_count": 15,
      "outputs": [
        {
          "output_type": "stream",
          "text": "I found this very handy\n",
          "name": "stdout"
        }
      ]
    },
    {
      "metadata": {
        "collapsed": true
      },
      "cell_type": "markdown",
      "source": "### 1.Write a Python program to print the following string\n\nSample String: \"Welcome to INSAID- International School of AI and Data Science\"\n\n"
    },
    {
      "metadata": {
        "trusted": true
      },
      "cell_type": "code",
      "source": "print(\"Welcome to INSAID- International School of AI and Data Science\")",
      "execution_count": 16,
      "outputs": [
        {
          "output_type": "stream",
          "text": "Welcome to INSAID- International School of AI and Data Science\n",
          "name": "stdout"
        }
      ]
    },
    {
      "metadata": {
        "trusted": true
      },
      "cell_type": "code",
      "source": "print(3*4)\nprint((12/5)*45)",
      "execution_count": 19,
      "outputs": [
        {
          "output_type": "stream",
          "text": "12\n108.0\n",
          "name": "stdout"
        }
      ]
    },
    {
      "metadata": {
        "trusted": true
      },
      "cell_type": "code",
      "source": "print(\"Welcome to INSAID- International School of AI and Data Science\") # '' & \"\"",
      "execution_count": null,
      "outputs": []
    },
    {
      "metadata": {},
      "cell_type": "markdown",
      "source": "### 1.1 In a “Hello, World!” program, a comment may look like this:"
    },
    {
      "metadata": {
        "trusted": true
      },
      "cell_type": "code",
      "source": "# Print “Hello, World!” to console\nprint(\"Hello, World!\",sum([51,2,57]))\n\n#sum()",
      "execution_count": 22,
      "outputs": [
        {
          "output_type": "stream",
          "text": "Hello, World! 110\n",
          "name": "stdout"
        }
      ]
    },
    {
      "metadata": {},
      "cell_type": "markdown",
      "source": "Observation: Prints Hello World"
    },
    {
      "metadata": {
        "trusted": true
      },
      "cell_type": "code",
      "source": "help(\"sum\")",
      "execution_count": 23,
      "outputs": [
        {
          "output_type": "stream",
          "text": "Help on built-in function sum in module builtins:\n\nsum(iterable, start=0, /)\n    Return the sum of a 'start' value (default: 0) plus an iterable of numbers\n    \n    When the iterable is empty, return the start value.\n    This function is intended specifically for use with numeric values and may\n    reject non-numeric types.\n\n",
          "name": "stdout"
        }
      ]
    },
    {
      "metadata": {
        "trusted": true
      },
      "cell_type": "code",
      "source": "help(\"type\")",
      "execution_count": 24,
      "outputs": [
        {
          "output_type": "stream",
          "text": "Help on class type in module builtins:\n\nclass type(object)\n |  type(object_or_name, bases, dict)\n |  type(object) -> the object's type\n |  type(name, bases, dict) -> a new type\n |  \n |  Methods defined here:\n |  \n |  __call__(self, /, *args, **kwargs)\n |      Call self as a function.\n |  \n |  __delattr__(self, name, /)\n |      Implement delattr(self, name).\n |  \n |  __dir__(...)\n |      __dir__() -> list\n |      specialized __dir__ implementation for types\n |  \n |  __getattribute__(self, name, /)\n |      Return getattr(self, name).\n |  \n |  __init__(self, /, *args, **kwargs)\n |      Initialize self.  See help(type(self)) for accurate signature.\n |  \n |  __instancecheck__(...)\n |      __instancecheck__() -> bool\n |      check if an object is an instance\n |  \n |  __new__(*args, **kwargs)\n |      Create and return a new object.  See help(type) for accurate signature.\n |  \n |  __prepare__(...)\n |      __prepare__() -> dict\n |      used to create the namespace for the class statement\n |  \n |  __repr__(self, /)\n |      Return repr(self).\n |  \n |  __setattr__(self, name, value, /)\n |      Implement setattr(self, name, value).\n |  \n |  __sizeof__(...)\n |      __sizeof__() -> int\n |      return memory consumption of the type object\n |  \n |  __subclasscheck__(...)\n |      __subclasscheck__() -> bool\n |      check if a class is a subclass\n |  \n |  __subclasses__(...)\n |      __subclasses__() -> list of immediate subclasses\n |  \n |  mro(...)\n |      mro() -> list\n |      return a type's method resolution order\n |  \n |  ----------------------------------------------------------------------\n |  Data descriptors defined here:\n |  \n |  __abstractmethods__\n |  \n |  __dict__\n |  \n |  __text_signature__\n |  \n |  ----------------------------------------------------------------------\n |  Data and other attributes defined here:\n |  \n |  __base__ = <class 'object'>\n |      The most base type\n |  \n |  __bases__ = (<class 'object'>,)\n |  \n |  __basicsize__ = 864\n |  \n |  __dictoffset__ = 264\n |  \n |  __flags__ = 2148291584\n |  \n |  __itemsize__ = 40\n |  \n |  __mro__ = (<class 'type'>, <class 'object'>)\n |  \n |  __weakrefoffset__ = 368\n\n",
          "name": "stdout"
        }
      ]
    },
    {
      "metadata": {
        "trusted": true
      },
      "cell_type": "code",
      "source": "sum([3,4,5])",
      "execution_count": 25,
      "outputs": [
        {
          "output_type": "execute_result",
          "execution_count": 25,
          "data": {
            "text/plain": "12"
          },
          "metadata": {}
        }
      ]
    },
    {
      "metadata": {
        "trusted": true
      },
      "cell_type": "code",
      "source": "print(12)",
      "execution_count": 26,
      "outputs": [
        {
          "output_type": "stream",
          "text": "12\n",
          "name": "stdout"
        }
      ]
    },
    {
      "metadata": {
        "trusted": true
      },
      "cell_type": "code",
      "source": "print(sum([3,4,5]))\nprint(sum([5,6,7]))",
      "execution_count": 27,
      "outputs": [
        {
          "output_type": "stream",
          "text": "12\n18\n",
          "name": "stdout"
        }
      ]
    },
    {
      "metadata": {
        "trusted": true
      },
      "cell_type": "code",
      "source": "import numpy as np\n\nprint(np.sum([3,4,5]))\nsum([3,4,5])\n'''\nimport suchit as su\nsu.sum([1,2,3])\n'''\n\nprint(sum([3,4,5]))",
      "execution_count": 30,
      "outputs": [
        {
          "output_type": "stream",
          "text": "12\n12\n",
          "name": "stdout"
        }
      ]
    },
    {
      "metadata": {
        "trusted": true
      },
      "cell_type": "code",
      "source": "45 + (78**2)/100",
      "execution_count": 31,
      "outputs": [
        {
          "output_type": "execute_result",
          "execution_count": 31,
          "data": {
            "text/plain": "105.84"
          },
          "metadata": {}
        }
      ]
    },
    {
      "metadata": {
        "trusted": true
      },
      "cell_type": "code",
      "source": "myList = ['i','j','k']\nprint(myList)",
      "execution_count": 32,
      "outputs": [
        {
          "output_type": "stream",
          "text": "['i', 'j', 'k']\n",
          "name": "stdout"
        }
      ]
    },
    {
      "metadata": {
        "trusted": true
      },
      "cell_type": "code",
      "source": "myTuple = ('i','j','k')\nprint(myTuple)",
      "execution_count": 33,
      "outputs": [
        {
          "output_type": "stream",
          "text": "('i', 'j', 'k')\n",
          "name": "stdout"
        }
      ]
    },
    {
      "metadata": {
        "trusted": true
      },
      "cell_type": "code",
      "source": "mySet = {1,1,2,5,3,4,1,7,5,4,7,9}\n\nfruits = ['Apples','Apples','Apples','Apples','Banana','Banana']\nprint(set(fruits))\nprint(mySet)",
      "execution_count": 39,
      "outputs": [
        {
          "output_type": "stream",
          "text": "{'Banana', 'Apples'}\n{1, 2, 3, 4, 5, 7, 9}\n",
          "name": "stdout"
        }
      ]
    },
    {
      "metadata": {
        "trusted": true
      },
      "cell_type": "code",
      "source": "myDict = {1:45,2:15,3:15,4:15, 3:26}\nprint(myDict)",
      "execution_count": 42,
      "outputs": [
        {
          "output_type": "stream",
          "text": "{1: 45, 2: 15, 3: 26, 4: 15}\n",
          "name": "stdout"
        }
      ]
    },
    {
      "metadata": {
        "trusted": true
      },
      "cell_type": "code",
      "source": "# Define sharks variable as a list of strings\nlist_sample = ['hammer', 'white', 'fish', 'frilled', 'bullhead', 'requiem', 5]\n#                  0          1      2       3          4            5       6   \n#print(id(list_sample))\n\n#print(list_sample)\n#print(list_sample[3])\n#print(list_sample[:4])\n#print(list_sample[:4:2])\n#print(type(list_sample[6]))\n\n# For loop that iterates over sharks list and prints each string item\n\nfor item in ['hammer', 'white', 'fish', 'frilled', 'bullhead', 'requiem', '5']:\n    print(item,len(item))\nprint('hello')\n",
      "execution_count": 59,
      "outputs": [
        {
          "output_type": "stream",
          "text": "hammer 6\nwhite 5\nfish 4\nfrilled 7\nbullhead 8\nrequiem 7\n5 1\nhello\n",
          "name": "stdout"
        }
      ]
    },
    {
      "metadata": {},
      "cell_type": "markdown",
      "source": "### 2.Write a Python Program to Add Two Numbers"
    },
    {
      "metadata": {
        "tags": [
          "raises-exception"
        ],
        "trusted": true
      },
      "cell_type": "code",
      "source": "my_var = 2+3+4+10+67+47+.....+10\n\nheight1 =xvy*(2+3..+10)\n\nheight2 =abc*(2+3+..+10)\n\nheight3 =xvy*my_var\n\nheight4 =ghi*my_var\n",
      "execution_count": null,
      "outputs": []
    },
    {
      "metadata": {},
      "cell_type": "markdown",
      "source": "As per our **observations** above we find that our **sales vs cost** ration is way better in Eastern Zone"
    },
    {
      "metadata": {
        "tags": [
          "raises-exception"
        ],
        "trusted": true
      },
      "cell_type": "code",
      "source": "2+4+10+67+47+.....+10\n\n",
      "execution_count": null,
      "outputs": []
    },
    {
      "metadata": {
        "trusted": true
      },
      "cell_type": "code",
      "source": "mySum = 2+4+10+67+47\nprint(mySum)",
      "execution_count": null,
      "outputs": []
    },
    {
      "metadata": {
        "trusted": true
      },
      "cell_type": "code",
      "source": "d = mySum+9\nprint(d)",
      "execution_count": null,
      "outputs": []
    },
    {
      "metadata": {
        "trusted": true
      },
      "cell_type": "code",
      "source": "mySum = mySum + 90",
      "execution_count": null,
      "outputs": []
    },
    {
      "metadata": {
        "trusted": true
      },
      "cell_type": "code",
      "source": "mySum",
      "execution_count": null,
      "outputs": []
    },
    {
      "metadata": {
        "trusted": true
      },
      "cell_type": "code",
      "source": "d+12",
      "execution_count": null,
      "outputs": []
    },
    {
      "metadata": {
        "trusted": true
      },
      "cell_type": "code",
      "source": "# initialise two varaibles\na = 5444.332221\nb = 4.77644533\n# Add two numbers\nsum_value = a + b\n\n# Display the sum\nprint(\"The sum of a and b is\",sum_value)\nprint(sum_value,\"is the sum of a and b\")\nprint(\"{} is the sum of a and b\".format(sum_value))\nprint(\"is\",sum_value,\"the sum of a and b\")",
      "execution_count": 67,
      "outputs": [
        {
          "output_type": "stream",
          "text": "The sum of a and b is 5449.108666329999\n5449.108666329999 is the sum of a and b\n5449.108666329999 is the sum of a and b\nis 5449.108666329999 the sum of a and b\n",
          "name": "stdout"
        }
      ]
    },
    {
      "metadata": {
        "trusted": true
      },
      "cell_type": "code",
      "source": "print(\"a will lead to\",sum_value, \"when added to b\")\nprint(\"a will lead to {} when added to b\".format(sum_value))",
      "execution_count": null,
      "outputs": []
    },
    {
      "metadata": {
        "trusted": true
      },
      "cell_type": "code",
      "source": "mySum",
      "execution_count": null,
      "outputs": []
    },
    {
      "metadata": {
        "trusted": true
      },
      "cell_type": "code",
      "source": "def trade_val(a,b,com):\n    if com == 'ABC':\n        print(\"Trade {} id is worth {}\".format(a,b))\n    else:\n        print(\"Trade {} id is worth {}\".format(b,a))\n\n#trade_val(10,5000,'ABC')\ntrade_val(2450000,12,'DEF')",
      "execution_count": 70,
      "outputs": [
        {
          "output_type": "stream",
          "text": "Trade 12 id is worth 2450000\n",
          "name": "stdout"
        }
      ]
    },
    {
      "metadata": {},
      "cell_type": "markdown",
      "source": "### 3.Write a Python Program to Find the product of two numbers"
    },
    {
      "metadata": {
        "trusted": true
      },
      "cell_type": "code",
      "source": "# initialise two varaibles\na = 5\nb = 3\n# multiply two numbers\nc = a * b\n\nprint(c)\n\n# Display the sum\nprint(c,\"The product of a and b is\")\nprint(\"The\",c,\" product of a and b is\")\nprint(\"The product\",c,\" of a and b is\")\n\n\nprint(\"The product of a and b is {}\".format(c))\nprint(\"{} The product of a and b is \".format(c))\nprint(\"The product of {} a and b is \".format(c))\nc = 15\ncurrency = 'Rs.'\nonly = '/-'\nprint(\"The product of a and b is {}{}{}\".format(currency,c,only))",
      "execution_count": 71,
      "outputs": [
        {
          "output_type": "stream",
          "text": "15\n15 The product of a and b is\nThe 15  product of a and b is\nThe product 15  of a and b is\nThe product of a and b is 15\n15 The product of a and b is \nThe product of 15 a and b is \nThe product of a and b is Rs.15/-\n",
          "name": "stdout"
        }
      ]
    },
    {
      "metadata": {},
      "cell_type": "markdown",
      "source": "### 4.Write a python program to find the area of triangle given height and base of the triangle as 3 and 10."
    },
    {
      "metadata": {
        "trusted": true
      },
      "cell_type": "code",
      "source": "# Area of the triangle A= 1/2(base * height)\n\n#given height=3 and base =10\n\nh=3\n\nb=10\n\narea_of_triangle = 1/2 * (b*h)\n\n#print(area_of_triangle)\nprint(\"The area of triangle with h=3 and b=10 is {}\".format(area_of_triangle))\n",
      "execution_count": null,
      "outputs": []
    },
    {
      "metadata": {
        "trusted": true
      },
      "cell_type": "code",
      "source": "print(\"the product of a and b is {}\".format(2))",
      "execution_count": null,
      "outputs": []
    },
    {
      "metadata": {},
      "cell_type": "markdown",
      "source": "### 5.Python Program to Swap Two Variables"
    },
    {
      "metadata": {
        "trusted": true
      },
      "cell_type": "code",
      "source": "# initialise two varaibles\na = 5\nb = 3\n\nprint('The value of a before swapping: {}'.format(a))\nprint('The value of b before swapping: {}'.format(b),'\\n\\n')\n\na,b = b,a\nprint('The value of a after swapping: {}'.format(a))\nprint('The value of b after swapping: {}'.format(b),'\\n\\n')\n\n# create a temporary variable and swap the values\n\n# initialise two varaibles\na = 5\nb = 3\n\ntemp = a\na = b\nb = temp\n\nprint('The value of a after swapping: {}'.format(a))\nprint('The value of b after swapping: {}'.format(b))",
      "execution_count": null,
      "outputs": []
    },
    {
      "metadata": {},
      "cell_type": "markdown",
      "source": "## Section -"
    },
    {
      "metadata": {
        "collapsed": true
      },
      "cell_type": "markdown",
      "source": "### 1.Write a python program to print datatype of a varaible"
    },
    {
      "metadata": {
        "trusted": true
      },
      "cell_type": "code",
      "source": "a = 1\nprint(a, \"is of type\", type(a))\n\nb = 2.2\nprint(b, \"is of type\", type(b))\n\nc = 1+2j\nprint(c, \"is of type\", type(c))\n\n# c = suchithascreatedaweirdpackage.whatisc()\n#print(c, \"is it a complex number?\", isinstance(c,complex))\n\ntype(isinstance(c,complex))",
      "execution_count": 78,
      "outputs": [
        {
          "output_type": "stream",
          "text": "1 is of type <class 'int'>\n2.2 is of type <class 'float'>\n(1+2j) is of type <class 'complex'>\n",
          "name": "stdout"
        },
        {
          "output_type": "execute_result",
          "execution_count": 78,
          "data": {
            "text/plain": "bool"
          },
          "metadata": {}
        }
      ]
    },
    {
      "metadata": {
        "trusted": true
      },
      "cell_type": "code",
      "source": "name = 'Suchit'\ntype(name)",
      "execution_count": 79,
      "outputs": [
        {
          "output_type": "execute_result",
          "execution_count": 79,
          "data": {
            "text/plain": "str"
          },
          "metadata": {}
        }
      ]
    },
    {
      "metadata": {},
      "cell_type": "markdown",
      "source": "### 2.Write a python program to extract an item or a range of items from a list.\n\n"
    },
    {
      "metadata": {
        "scrolled": true,
        "trusted": true
      },
      "cell_type": "code",
      "source": "a = [15,20,35,40,45,30,35,60]       # a[start:end] -> start is inclusive & end is exclusive\n#     0, 1, 2, 3, 4, 5, 6, 7      \n\n#print(len(a))\n#print(a[2])\n\n#print(a[1:6])\n#print(a[1:6:2])\n\n#print(a[5:])\n\n#print(a[:6])\n\n#print(a[5:])\n#print(a[5::2])\n#print(a[-2])\n#print(a[5:2:-1])\n#print(a[-1:-4:-1])\nprint(a[::-1])",
      "execution_count": 85,
      "outputs": [
        {
          "output_type": "stream",
          "text": "[60, 35, 30, 45, 40, 35, 20, 15]\n",
          "name": "stdout"
        }
      ]
    },
    {
      "metadata": {
        "trusted": true
      },
      "cell_type": "code",
      "source": "print(a[6],a[7],a[0])",
      "execution_count": null,
      "outputs": []
    },
    {
      "metadata": {
        "trusted": true
      },
      "cell_type": "code",
      "source": "print(a[1],a[4],a[5])",
      "execution_count": null,
      "outputs": []
    },
    {
      "metadata": {
        "trusted": true
      },
      "cell_type": "code",
      "source": "str_val = 'abc','cdf'\nprint(type(str_val))\nprint(str_val)",
      "execution_count": 91,
      "outputs": [
        {
          "output_type": "stream",
          "text": "<class 'tuple'>\n('abc', 'cdf')\n",
          "name": "stdout"
        }
      ]
    },
    {
      "metadata": {
        "trusted": true
      },
      "cell_type": "code",
      "source": "str_val = 'abc',\ntype(str_val)",
      "execution_count": 95,
      "outputs": [
        {
          "output_type": "execute_result",
          "execution_count": 95,
          "data": {
            "text/plain": "tuple"
          },
          "metadata": {}
        }
      ]
    },
    {
      "metadata": {
        "trusted": true
      },
      "cell_type": "code",
      "source": "num = (1,)\nprint(type(num))\nprint(num)",
      "execution_count": 98,
      "outputs": [
        {
          "output_type": "stream",
          "text": "<class 'tuple'>\n(1,)\n",
          "name": "stdout"
        }
      ]
    },
    {
      "metadata": {
        "trusted": true
      },
      "cell_type": "code",
      "source": "tup1 = 1,2\nprint(type(tup1))\nprint(tup1)",
      "execution_count": 99,
      "outputs": [
        {
          "output_type": "stream",
          "text": "<class 'tuple'>\n(1, 2)\n",
          "name": "stdout"
        }
      ]
    },
    {
      "metadata": {},
      "cell_type": "markdown",
      "source": "### 3.Converting Floats to Integers\n"
    },
    {
      "metadata": {
        "trusted": true
      },
      "cell_type": "code",
      "source": "# !pip install math",
      "execution_count": null,
      "outputs": []
    },
    {
      "metadata": {
        "trusted": true
      },
      "cell_type": "code",
      "source": "import math as mt\nb = 125.1\nc = 390.8\nd = 12\n\n'''\nprint(type(b))\nprint(type(c))\nprint('----')\nprint(int(b))\nprint(int(c))\nprint(float(d))\nprint('----')\n\n'''\n\nprint(mt.floor(c))\nprint(mt.ceil(b))\n",
      "execution_count": 104,
      "outputs": [
        {
          "output_type": "stream",
          "text": "390\n126\n",
          "name": "stdout"
        }
      ]
    },
    {
      "metadata": {},
      "cell_type": "markdown",
      "source": "### 4.Converting Numbers to Strings"
    },
    {
      "metadata": {
        "trusted": true
      },
      "cell_type": "code",
      "source": "int(float('10.3'))",
      "execution_count": 112,
      "outputs": [
        {
          "output_type": "execute_result",
          "execution_count": 112,
          "data": {
            "text/plain": "10"
          },
          "metadata": {}
        }
      ]
    },
    {
      "metadata": {
        "tags": [
          "raises-exception"
        ],
        "trusted": true
      },
      "cell_type": "code",
      "source": "my_int_value_1 = 10\n\nprint(my_int_value_1, \"is of type\", type(my_int_value_1))\n\nmy_int_to_str_value_1 = str(my_int_value_1)\n\nprint(my_int_to_str_value_1, \"is of type\", type(my_int_to_str_value_1))\n",
      "execution_count": 1,
      "outputs": [
        {
          "output_type": "stream",
          "text": "10 is of type <class 'int'>\n10 is of type <class 'str'>\n",
          "name": "stdout"
        }
      ]
    },
    {
      "metadata": {
        "trusted": true
      },
      "cell_type": "code",
      "source": "#number_of_apple = comesfromsuchit.numapple()\nfruit = 'Apple ' + str(10)\nprint(fruit)",
      "execution_count": 111,
      "outputs": [
        {
          "output_type": "stream",
          "text": "Apple 10\n",
          "name": "stdout"
        }
      ]
    },
    {
      "metadata": {
        "trusted": true
      },
      "cell_type": "code",
      "source": "fruit = 'Apple'\nprint(fruit,10)",
      "execution_count": 8,
      "outputs": [
        {
          "output_type": "stream",
          "text": "Apple 10\n",
          "name": "stdout"
        }
      ]
    },
    {
      "metadata": {},
      "cell_type": "markdown",
      "source": "### 5.Converting Strings to Numbers"
    },
    {
      "metadata": {
        "trusted": true
      },
      "cell_type": "code",
      "source": "a = '20'\nb = int(a)\nprint(type(b))\nprint(b)\n",
      "execution_count": 116,
      "outputs": [
        {
          "output_type": "stream",
          "text": "<class 'int'>\n20\n",
          "name": "stdout"
        }
      ]
    },
    {
      "metadata": {
        "trusted": true
      },
      "cell_type": "code",
      "source": "user_number = input('Send me a number:')",
      "execution_count": 124,
      "outputs": [
        {
          "output_type": "stream",
          "name": "stdout",
          "text": "Send me a number:111\n"
        }
      ]
    },
    {
      "metadata": {
        "trusted": true
      },
      "cell_type": "code",
      "source": "type(user_number)",
      "execution_count": 125,
      "outputs": [
        {
          "output_type": "execute_result",
          "execution_count": 125,
          "data": {
            "text/plain": "str"
          },
          "metadata": {}
        }
      ]
    },
    {
      "metadata": {
        "trusted": true
      },
      "cell_type": "code",
      "source": "int(user_number) + 10",
      "execution_count": 126,
      "outputs": [
        {
          "output_type": "execute_result",
          "execution_count": 126,
          "data": {
            "text/plain": "121"
          },
          "metadata": {}
        }
      ]
    },
    {
      "metadata": {
        "trusted": true
      },
      "cell_type": "code",
      "source": "a = 20.5\nint(a)",
      "execution_count": 127,
      "outputs": [
        {
          "output_type": "execute_result",
          "execution_count": 127,
          "data": {
            "text/plain": "20"
          },
          "metadata": {}
        }
      ]
    },
    {
      "metadata": {
        "trusted": true
      },
      "cell_type": "code",
      "source": "a = \"50\"\nb = \"108\"\n\n#lines_more = int(a) - int(b)\n\n'''\nprint(a+b)\n\n'''\nlines_more = int(a) + int(b)\n\nprint(lines_more)\nprint(type(lines_more))\n",
      "execution_count": 129,
      "outputs": [
        {
          "output_type": "stream",
          "text": "158\n<class 'int'>\n",
          "name": "stdout"
        }
      ]
    },
    {
      "metadata": {
        "trusted": true
      },
      "cell_type": "code",
      "source": "a = \"50\"\nb = \"108\"\nprint(int(a)+int(b))",
      "execution_count": 130,
      "outputs": [
        {
          "output_type": "stream",
          "text": "158\n",
          "name": "stdout"
        }
      ]
    },
    {
      "metadata": {},
      "cell_type": "markdown",
      "source": "### 6.Converting list to Tuples"
    },
    {
      "metadata": {
        "trusted": true
      },
      "cell_type": "code",
      "source": "your_list = ['request', 'source', 'repository', 'branch']\ntup_1 = tuple(your_list)\n\nprint(your_list)\nprint(tup_1)\n\nprint()\nprint()\n\n\nprint(id(your_list))\nprint(id(tup_1))\n",
      "execution_count": 25,
      "outputs": [
        {
          "output_type": "stream",
          "text": "['request', 'source', 'repository', 'branch']\n('request', 'source', 'repository', 'branch')\n\n\n140271166593160\n140271166638104\n",
          "name": "stdout"
        }
      ]
    },
    {
      "metadata": {
        "trusted": true
      },
      "cell_type": "code",
      "source": "tup_2 = ('request', 'source', 'repository', 'branch')\n#tup_3 = 50,100,52\n#print('tup_3',type(tup_3))\n\nlist_2 = list(tup_2)\n\nprint(tup_2)\nprint(list_2)\n\nprint()\nprint()\n\nprint(id(tup_2))\nprint(id(list_2))",
      "execution_count": 24,
      "outputs": [
        {
          "output_type": "stream",
          "text": "('request', 'source', 'repository', 'branch')\n['request', 'source', 'repository', 'branch']\n\n\n140271166637304\n140271166633160\n",
          "name": "stdout"
        }
      ]
    },
    {
      "metadata": {
        "trusted": true
      },
      "cell_type": "code",
      "source": "print(tuple(['request', 'source', 'repository', 'branch']))",
      "execution_count": 26,
      "outputs": [
        {
          "output_type": "stream",
          "text": "('request', 'source', 'repository', 'branch')\n",
          "name": "stdout"
        }
      ]
    },
    {
      "metadata": {
        "trusted": true
      },
      "cell_type": "code",
      "source": "a = 'request', 'source', 'repository', 'branch'\nb = 50,\nprint(a,b)\nprint(type(b))",
      "execution_count": 27,
      "outputs": [
        {
          "output_type": "stream",
          "text": "('request', 'source', 'repository', 'branch') (50,)\n<class 'tuple'>\n",
          "name": "stdout"
        }
      ]
    },
    {
      "metadata": {},
      "cell_type": "markdown",
      "source": "### 7.Converting tuple to Lists"
    },
    {
      "metadata": {
        "trusted": true
      },
      "cell_type": "code",
      "source": "print(list(('blue','red','white')))",
      "execution_count": 28,
      "outputs": [
        {
          "output_type": "stream",
          "text": "['blue', 'red', 'white']\n",
          "name": "stdout"
        }
      ]
    },
    {
      "metadata": {
        "trusted": true
      },
      "cell_type": "code",
      "source": "('blue','red','white')\nlist()\nprint()",
      "execution_count": 29,
      "outputs": [
        {
          "output_type": "stream",
          "text": "\n",
          "name": "stdout"
        }
      ]
    },
    {
      "metadata": {
        "collapsed": true
      },
      "cell_type": "markdown",
      "source": "### 8. Converting strings to lists:"
    },
    {
      "metadata": {
        "trusted": true
      },
      "cell_type": "code",
      "source": "print(list('Suchit'))",
      "execution_count": 30,
      "outputs": [
        {
          "output_type": "stream",
          "text": "['S', 'u', 'c', 'h', 'i', 't']\n",
          "name": "stdout"
        }
      ]
    },
    {
      "metadata": {
        "trusted": true
      },
      "cell_type": "code",
      "source": "print(list(\"Suchit's\"))",
      "execution_count": 34,
      "outputs": [
        {
          "output_type": "stream",
          "text": "['S', 'u', 'c', 'h', 'i', 't', \"'\", 's']\n",
          "name": "stdout"
        }
      ]
    },
    {
      "metadata": {
        "trusted": true
      },
      "cell_type": "code",
      "source": "# Doctor's'\nprint (list('DOC,TOR\\'s'))",
      "execution_count": 7,
      "outputs": [
        {
          "output_type": "stream",
          "text": "['D', 'O', 'C', ',', 'T', 'O', 'R', \"'\", 's']\n",
          "name": "stdout"
        }
      ]
    },
    {
      "metadata": {
        "trusted": true
      },
      "cell_type": "code",
      "source": "print('INSAID')\nprint(list('INSAID'))",
      "execution_count": 1,
      "outputs": [
        {
          "output_type": "stream",
          "text": "INSAID\n['I', 'N', 'S', 'A', 'I', 'D']\n",
          "name": "stdout"
        }
      ]
    },
    {
      "metadata": {
        "trusted": true
      },
      "cell_type": "code",
      "source": "\"\".join(['I', 'N', 'S', 'A', 'I', 'D'])",
      "execution_count": 8,
      "outputs": [
        {
          "output_type": "execute_result",
          "execution_count": 8,
          "data": {
            "text/plain": "'INSAID'"
          },
          "metadata": {}
        }
      ]
    },
    {
      "metadata": {
        "trusted": true
      },
      "cell_type": "code",
      "source": "['I', 'N', 'S', 'A', 'I', 'D'][::-1]",
      "execution_count": 9,
      "outputs": [
        {
          "output_type": "execute_result",
          "execution_count": 9,
          "data": {
            "text/plain": "['D', 'I', 'A', 'S', 'N', 'I']"
          },
          "metadata": {}
        }
      ]
    },
    {
      "metadata": {
        "trusted": true
      },
      "cell_type": "code",
      "source": "'INSAID'[::-1]",
      "execution_count": 38,
      "outputs": [
        {
          "output_type": "execute_result",
          "execution_count": 38,
          "data": {
            "text/plain": "'DIASNI'"
          },
          "metadata": {}
        }
      ]
    },
    {
      "metadata": {},
      "cell_type": "markdown",
      "source": "### 9.Assign different data types to a varibles"
    },
    {
      "metadata": {
        "trusted": true
      },
      "cell_type": "code",
      "source": "my_string = 'Hello, World!'            # Granular Data -> Character\nmy_flt = 45.06                         # Decimal Number \nmy_bool = 5 > 9                        #A Boolean value will return either True or False\nmy_list = [[1,2,3,4], (1,2,'3',4), a ,b , 1.0, 2, [1,2,3,4], [1,2,'a',4]]  # Any item, item1=[1,2,3,4]\nprint(my_list)\nmy_tuple = ('one', 'two', 'three',1,2,3,[5,6,7])\nmy_set = {12,13,14.5,28,14,35,14}\nprint(my_set)\nmy_dict = {'letter': 'g', 'number': '7', 'symbol': '&'} # {k1:v1,k2:v2}\nprint(my_dict)",
      "execution_count": 39,
      "outputs": [
        {
          "output_type": "stream",
          "text": "[[1, 2, 3, 4], (1, 2, '3', 4), ('request', 'source', 'repository', 'branch'), (50,), 1.0, 2, [1, 2, 3, 4], [1, 2, 'a', 4]]\n{35, 12, 13, 14.5, 14, 28}\n{'letter': 'g', 'number': '7', 'symbol': '&'}\n",
          "name": "stdout"
        }
      ]
    },
    {
      "metadata": {
        "trusted": true
      },
      "cell_type": "code",
      "source": "emp_det = {'suchit':{'age':72,'weight':90},'akash':{'age':12,'weight':19}}",
      "execution_count": 40,
      "outputs": []
    },
    {
      "metadata": {
        "trusted": true
      },
      "cell_type": "code",
      "source": "my_set",
      "execution_count": 41,
      "outputs": [
        {
          "output_type": "execute_result",
          "execution_count": 41,
          "data": {
            "text/plain": "{12, 13, 14, 14.5, 28, 35}"
          },
          "metadata": {}
        }
      ]
    },
    {
      "metadata": {},
      "cell_type": "markdown",
      "source": "## Section-"
    },
    {
      "metadata": {
        "collapsed": true
      },
      "cell_type": "markdown",
      "source": "### Print out a string that uses a formatter"
    },
    {
      "metadata": {
        "trusted": true
      },
      "cell_type": "code",
      "source": "import numpy as np\nnp.",
      "execution_count": 11,
      "outputs": []
    },
    {
      "metadata": {
        "trusted": true
      },
      "cell_type": "code",
      "source": "import numpywrittenbysuchitin1990\n\nnumpywrittenbysuchitin1990.sum(1,2,3)\nnumpywrittenbysuchitin1990.divide(5,2)\n\n\n\nimport numpywrittenbysuchitin1990 as ns\n\nns.sum(1,2,3)\nns.divide(5,2)\n",
      "execution_count": null,
      "outputs": []
    },
    {
      "metadata": {
        "trusted": true
      },
      "cell_type": "code",
      "source": "a = '5'\nb = 10\na+str(b)",
      "execution_count": 15,
      "outputs": [
        {
          "output_type": "execute_result",
          "execution_count": 15,
          "data": {
            "text/plain": "'510'"
          },
          "metadata": {}
        }
      ]
    },
    {
      "metadata": {
        "tags": [
          "raises-exception"
        ],
        "trusted": true
      },
      "cell_type": "code",
      "source": "name1='Sharukh'\ncars1 = 4\nprint(name1+' has '+ str(cars1) +' cars.')",
      "execution_count": 16,
      "outputs": [
        {
          "output_type": "stream",
          "text": "Sharukh has 4 cars.\n",
          "name": "stdout"
        }
      ]
    },
    {
      "metadata": {
        "trusted": true
      },
      "cell_type": "code",
      "source": "print(name1,'has',cars1,'cars.')",
      "execution_count": 17,
      "outputs": [
        {
          "output_type": "stream",
          "text": "Sharukh has 4 cars.\n",
          "name": "stdout"
        }
      ]
    },
    {
      "metadata": {
        "trusted": true
      },
      "cell_type": "code",
      "source": "print(\"{0} has {1} cars.\".format('Sharukh',4))\n",
      "execution_count": 18,
      "outputs": [
        {
          "output_type": "stream",
          "text": "Sharukh has 4 cars.\n",
          "name": "stdout"
        }
      ]
    },
    {
      "metadata": {
        "trusted": true
      },
      "cell_type": "code",
      "source": "print(\"{1} has {0} cars.\".format(4,'Prabhas'))\n",
      "execution_count": 22,
      "outputs": [
        {
          "output_type": "stream",
          "text": "Prabhas has 4 cars.\n",
          "name": "stdout"
        }
      ]
    },
    {
      "metadata": {
        "trusted": true
      },
      "cell_type": "code",
      "source": "print(\"{0}{3}{2} has {1} cars.\".format('{',4,'}','Prabhas'))",
      "execution_count": 26,
      "outputs": [
        {
          "output_type": "stream",
          "text": "{Prabhas} has 4 cars.\n",
          "name": "stdout"
        }
      ]
    },
    {
      "metadata": {},
      "cell_type": "markdown",
      "source": "### We can also assign a variable to be equal to the value of a string that has formatter placeholders:"
    },
    {
      "metadata": {
        "trusted": true
      },
      "cell_type": "code",
      "source": "open_string = \"john likes {}{}{}.\"\nprint(open_string)\n\nprint(open_string.format('{}',\"open source\",'{}}'))",
      "execution_count": 23,
      "outputs": [
        {
          "output_type": "stream",
          "text": "john likes {}{}{}.\njohn likes {}open source{}}.\n",
          "name": "stdout"
        }
      ]
    },
    {
      "metadata": {},
      "cell_type": "markdown",
      "source": "### Using Formatters with Multiple Placeholders"
    },
    {
      "metadata": {
        "trusted": true
      },
      "cell_type": "code",
      "source": "\"John likes grapes and Excel\"",
      "execution_count": 27,
      "outputs": [
        {
          "output_type": "execute_result",
          "execution_count": 27,
          "data": {
            "text/plain": "'John likes grapes and Excel'"
          },
          "metadata": {}
        }
      ]
    },
    {
      "metadata": {
        "trusted": true
      },
      "cell_type": "code",
      "source": "def printinputs(name,fruit,software):\n    print(\"{} like {} and {}\".format(name,fruit,software))",
      "execution_count": 28,
      "outputs": []
    },
    {
      "metadata": {
        "trusted": true
      },
      "cell_type": "code",
      "source": "new_open_string = \"john likes {} {}.\"                      #2 {} placeholders\nprint(new_open_string.format(\"open-source\", \"software\"))    #Pass 2 strings into method, separated by a comma",
      "execution_count": 29,
      "outputs": [
        {
          "output_type": "stream",
          "text": "john likes open-source software.\n",
          "name": "stdout"
        }
      ]
    },
    {
      "metadata": {
        "trusted": true
      },
      "cell_type": "code",
      "source": "sammy_string = \"john loves {} {}, and has {} {}.\"                      #4 {} placeholders\nprint(sammy_string.format(\"open-source\", \"software\", 5, \"balloons\"))    #Pass 4 strings into method",
      "execution_count": 30,
      "outputs": [
        {
          "output_type": "stream",
          "text": "john loves open-source software, and has 5 balloons.\n",
          "name": "stdout"
        }
      ]
    },
    {
      "metadata": {},
      "cell_type": "markdown",
      "source": "### Reordering Formatters with Positional and Keyword Arguments\n"
    },
    {
      "metadata": {
        "trusted": true
      },
      "cell_type": "code",
      "source": "print(\"john the {} has a pet {}!\".format(\"shark\", \"pilot fish\"))",
      "execution_count": null,
      "outputs": []
    },
    {
      "metadata": {},
      "cell_type": "markdown",
      "source": "### We can pass these index numbers into the curly braces that serve as the placeholders in the original string:"
    },
    {
      "metadata": {
        "trusted": true
      },
      "cell_type": "code",
      "source": "\n#print(\"john the {0} has a pet {1}!\".format(\"shark\", \"pilot fish\"))\n\ndept = 'IT'\nif (dept=='IT'):\n    print(\"john is a {1}, {0}, and {2} {3}!\".format(\"happy\", \"smiling\", \"blue\", \"shark\"))\nelse:\n    print(\"john is a {}, {}, and {} {}!\".format(\"smiling\", \"happy\", \"blue\", \"shark\"))",
      "execution_count": 9,
      "outputs": [
        {
          "output_type": "stream",
          "text": "john is a smiling, happy, and blue shark!\n",
          "name": "stdout"
        }
      ]
    },
    {
      "metadata": {},
      "cell_type": "markdown",
      "source": "### Python Program to Get String Input from User\n"
    },
    {
      "metadata": {
        "scrolled": true,
        "trusted": true
      },
      "cell_type": "code",
      "source": "inputString = input(\"Enter any value: \")\nprint(inputString)\nprint(type(inputString))",
      "execution_count": 45,
      "outputs": [
        {
          "output_type": "stream",
          "name": "stdout",
          "text": "Enter any value: 25\n25\n<class 'str'>\n"
        }
      ]
    },
    {
      "metadata": {
        "trusted": true
      },
      "cell_type": "code",
      "source": "inputString.split(',')",
      "execution_count": 44,
      "outputs": [
        {
          "output_type": "execute_result",
          "execution_count": 44,
          "data": {
            "text/plain": "['2', '5', '6', '7']"
          },
          "metadata": {}
        }
      ]
    },
    {
      "metadata": {
        "trusted": true
      },
      "cell_type": "code",
      "source": "",
      "execution_count": null,
      "outputs": []
    },
    {
      "metadata": {
        "trusted": true
      },
      "cell_type": "code",
      "source": "inputString+5",
      "execution_count": 37,
      "outputs": [
        {
          "output_type": "error",
          "ename": "TypeError",
          "evalue": "must be str, not int",
          "traceback": [
            "\u001b[0;31m---------------------------------------------------------------------------\u001b[0m",
            "\u001b[0;31mTypeError\u001b[0m                                 Traceback (most recent call last)",
            "\u001b[0;32m<ipython-input-37-36695dfbf3f7>\u001b[0m in \u001b[0;36m<module>\u001b[0;34m\u001b[0m\n\u001b[0;32m----> 1\u001b[0;31m \u001b[0minputString\u001b[0m\u001b[0;34m+\u001b[0m\u001b[0;36m5\u001b[0m\u001b[0;34m\u001b[0m\u001b[0m\n\u001b[0m",
            "\u001b[0;31mTypeError\u001b[0m: must be str, not int"
          ]
        }
      ]
    },
    {
      "metadata": {
        "tags": [
          "raises-exception"
        ],
        "trusted": true
      },
      "cell_type": "code",
      "source": "5 + int(inputString)",
      "execution_count": 46,
      "outputs": [
        {
          "output_type": "execute_result",
          "execution_count": 46,
          "data": {
            "text/plain": "30"
          },
          "metadata": {}
        }
      ]
    },
    {
      "metadata": {
        "trusted": true
      },
      "cell_type": "code",
      "source": "b = '{2:45,3:34,4:44}'\ntype(b)",
      "execution_count": 47,
      "outputs": [
        {
          "output_type": "execute_result",
          "execution_count": 47,
          "data": {
            "text/plain": "str"
          },
          "metadata": {}
        }
      ]
    },
    {
      "metadata": {
        "collapsed": true
      },
      "cell_type": "markdown",
      "source": "### Python program for conditional statements\n\n### 1)If the student receives over 65% on her test, report that her grade passes; if not, report that her grade fails"
    },
    {
      "metadata": {
        "code_folding": [],
        "trusted": true
      },
      "cell_type": "code",
      "source": "grade = 66\n\nif grade > 65:\n    print(\"Passing grade\")\n    print('Excellent')   \nelse:\n    print('Wishing you all the best for the retest')\n\nprint('Irrespective')",
      "execution_count": 49,
      "outputs": [
        {
          "output_type": "stream",
          "text": "Passing grade\nExcellent\nIrrespective\n",
          "name": "stdout"
        }
      ]
    },
    {
      "metadata": {
        "trusted": true
      },
      "cell_type": "code",
      "source": "grade = 60\n\nif grade > 65:\n    print(\"Passing grade\")\n\nelse:\n    print(\"Failing grade\")",
      "execution_count": null,
      "outputs": []
    },
    {
      "metadata": {},
      "cell_type": "markdown",
      "source": "### Write a python program calculate whether a bank account balance is below 0."
    },
    {
      "metadata": {
        "trusted": true
      },
      "cell_type": "code",
      "source": "balance = input()\nbalance = float(balance)\nprint(balance)\n\n\n\n\nif balance < 0:\n    print(\"Balance is below 0, add funds now or you will be charged a penalty.\")\n\nelif balance == 0:\n        print('Balance is Zero')\nelif balance == 0.23:\n        print('Weird balance')\nelse:\n    print(\"Your balance is above.\")\n",
      "execution_count": 54,
      "outputs": [
        {
          "output_type": "stream",
          "name": "stdout",
          "text": "0.2\n0.2\nYour balance is above.\n"
        }
      ]
    },
    {
      "metadata": {},
      "cell_type": "markdown",
      "source": "### Using Else if statement"
    },
    {
      "metadata": {
        "trusted": true
      },
      "cell_type": "code",
      "source": "balance = 10\n\nif balance < 0:\n    # task 1\n    # task 2\n    print(\"Balance is below 0, add funds now or you will be charged a penalty.\")\n\nelif balance == 0:\n    # task 3\n    # task 4\n    print(\"Balance is equal to 0, add funds soon.\")\n\nelse:\n    # task 5\n    # task 6\n    print(\"Your balance is above 0.\")",
      "execution_count": 55,
      "outputs": [
        {
          "output_type": "stream",
          "text": "Your balance is above 0.\n",
          "name": "stdout"
        }
      ]
    },
    {
      "metadata": {},
      "cell_type": "markdown",
      "source": "### Python program to print  Fibonacci series between 0 to 50."
    },
    {
      "metadata": {
        "trusted": true
      },
      "cell_type": "code",
      "source": "nterms = 5\n\na = 0\nb = 1\n\ncount = 0\n\nif nterms <= 0:\n   print(\"enter a positive integer\")\nelif nterms == 1:\n   print(\"Fibonacci sequence upto\",nterms,\":\")\n   print(a)\nelse:\n   print(\"Fibonacci sequence upto\",nterms,\":\")\n   while count < nterms:\n       if(count == nterms-1):\n            print(a)\n       else:\n            print(a)\n       nth = a + b\n       # update values\n       a = b\n       b = nth\n       count=count+1",
      "execution_count": 63,
      "outputs": [
        {
          "output_type": "stream",
          "text": "Fibonacci sequence upto 5 :\n0\n1\n1\n2\n3\n",
          "name": "stdout"
        }
      ]
    },
    {
      "metadata": {
        "tags": [
          "raises-exception"
        ],
        "trusted": true
      },
      "cell_type": "code",
      "source": "# Hypothetical situation where someone already has built the Fibonacci Series for you\n\n#!pip install fibonacci\n\nimport fibonacci as f\n\n'''\nprint(f.fibo(3))\n\n'''\nfor i in range(0,5):\n    print(f.fibo(i))\n\n# 0 1 1 2 3 5 8\n",
      "execution_count": 64,
      "outputs": [
        {
          "output_type": "stream",
          "text": "0\n1\n1\n2\n3\n",
          "name": "stdout"
        }
      ]
    },
    {
      "metadata": {},
      "cell_type": "markdown",
      "source": "### Python program to find numbers which are divisible by 7 and multiple of 5 between a range 150 to 270"
    },
    {
      "metadata": {
        "trusted": true
      },
      "cell_type": "code",
      "source": "False or True",
      "execution_count": 67,
      "outputs": [
        {
          "output_type": "execute_result",
          "execution_count": 67,
          "data": {
            "text/plain": "True"
          },
          "metadata": {}
        }
      ]
    },
    {
      "metadata": {
        "trusted": true
      },
      "cell_type": "code",
      "source": "True and True",
      "execution_count": 70,
      "outputs": [
        {
          "output_type": "execute_result",
          "execution_count": 70,
          "data": {
            "text/plain": "True"
          },
          "metadata": {}
        }
      ]
    },
    {
      "metadata": {
        "trusted": true
      },
      "cell_type": "code",
      "source": "if ((1==2) or (2==2)):\n    print('Yes Or works')\n \nprint('I am out')",
      "execution_count": 66,
      "outputs": [
        {
          "output_type": "stream",
          "text": "Yes Or works\nI am out\n",
          "name": "stdout"
        }
      ]
    },
    {
      "metadata": {
        "trusted": true
      },
      "cell_type": "code",
      "source": "for num in range(0,20,2):   # 20 21 22 23 24..........38\n    print(num/4)\n    ",
      "execution_count": 54,
      "outputs": [
        {
          "output_type": "stream",
          "text": "0.0\n0.5\n1.0\n1.5\n2.0\n2.5\n3.0\n3.5\n4.0\n4.5\n",
          "name": "stdout"
        }
      ]
    },
    {
      "metadata": {
        "trusted": true
      },
      "cell_type": "code",
      "source": "for number in range(150,270):\n    '''  \n    if number %7==0 and number %5==0 :\n        print(number)\n    '''\n    if number %35 == 0:\n        print(number)\n      \n",
      "execution_count": 82,
      "outputs": [
        {
          "output_type": "stream",
          "text": "175\n210\n245\n",
          "name": "stdout"
        }
      ]
    },
    {
      "metadata": {},
      "cell_type": "markdown",
      "source": "### Python program to Sum all the items in a list"
    },
    {
      "metadata": {
        "trusted": true
      },
      "cell_type": "code",
      "source": "def sum_list(items):\n    sum_numbers = 0\n    for x in items:\n        sum_numbers += x          # sum_numbers = sum_numbers + x       \n    return sum_numbers\n\nprint(sum_list([20,12,20,22]))\nprint(sum_list([666,12,20,22,33,22,55,77]))",
      "execution_count": 57,
      "outputs": [
        {
          "output_type": "stream",
          "text": "74\n907\n",
          "name": "stdout"
        }
      ]
    },
    {
      "metadata": {
        "trusted": true
      },
      "cell_type": "code",
      "source": "sum([20,12,20,22])",
      "execution_count": 58,
      "outputs": [
        {
          "output_type": "execute_result",
          "execution_count": 58,
          "data": {
            "text/plain": "74"
          },
          "metadata": {}
        }
      ]
    },
    {
      "metadata": {
        "trusted": true
      },
      "cell_type": "code",
      "source": "def pl_name(team):\n    for x in team:\n        print(x)\n    \n        \npl_name(['virat','dhoni'])\n#pl_name(['ashok','chhettri'])",
      "execution_count": 85,
      "outputs": [
        {
          "output_type": "stream",
          "text": "virat\ndhoni\n",
          "name": "stdout"
        }
      ]
    },
    {
      "metadata": {
        "trusted": true
      },
      "cell_type": "code",
      "source": "sum([666,12,20,22,33,22,55,77,77,77,22,33])",
      "execution_count": null,
      "outputs": []
    },
    {
      "metadata": {},
      "cell_type": "markdown",
      "source": "### Python program to Remove duplicates from a list."
    },
    {
      "metadata": {
        "trusted": true
      },
      "cell_type": "code",
      "source": "a = [10,20,80,30,40,50,60,70,40,80,50,40]\n\ndup_items = set()\nuniq_items = []\nfor x in a:\n    if x not in dup_items:\n        uniq_items.append(x)\n        dup_items.add(x)\n\nprint(dup_items,uniq_items)\n",
      "execution_count": 86,
      "outputs": [
        {
          "output_type": "stream",
          "text": "{70, 40, 10, 80, 50, 20, 60, 30} [10, 20, 80, 30, 40, 50, 60, 70]\n",
          "name": "stdout"
        }
      ]
    },
    {
      "metadata": {
        "trusted": true
      },
      "cell_type": "code",
      "source": "myset22 = set(a)\n#myset22[2]\nmyset22",
      "execution_count": 87,
      "outputs": [
        {
          "output_type": "execute_result",
          "execution_count": 87,
          "data": {
            "text/plain": "{10, 20, 30, 40, 50, 60, 70, 80}"
          },
          "metadata": {}
        }
      ]
    },
    {
      "metadata": {
        "trusted": true
      },
      "cell_type": "code",
      "source": "myset22.pop()",
      "execution_count": 88,
      "outputs": [
        {
          "output_type": "execute_result",
          "execution_count": 88,
          "data": {
            "text/plain": "70"
          },
          "metadata": {}
        }
      ]
    },
    {
      "metadata": {
        "trusted": true
      },
      "cell_type": "code",
      "source": "myset22.pop()",
      "execution_count": 89,
      "outputs": [
        {
          "output_type": "execute_result",
          "execution_count": 89,
          "data": {
            "text/plain": "40"
          },
          "metadata": {}
        }
      ]
    },
    {
      "metadata": {},
      "cell_type": "markdown",
      "source": "### Python program to Get the largest number from a list."
    },
    {
      "metadata": {
        "trusted": true
      },
      "cell_type": "code",
      "source": "def max_num_in_list( list_ ):\n    max_ = list_[ 0 ]\n    for a in list_:\n        if a > max_:\n            max_ = a\n    return max_\nprint(max_num_in_list([1, 12, 28, 0]))",
      "execution_count": null,
      "outputs": []
    },
    {
      "metadata": {
        "trusted": true
      },
      "cell_type": "code",
      "source": "max([1, 12, 28, 0])",
      "execution_count": null,
      "outputs": []
    },
    {
      "metadata": {},
      "cell_type": "markdown",
      "source": "### Concatenation of Tuples."
    },
    {
      "metadata": {
        "trusted": true
      },
      "cell_type": "code",
      "source": "#my_tup = (1,5,3,4,5)\n#my_tup.index(5)",
      "execution_count": null,
      "outputs": []
    },
    {
      "metadata": {
        "trusted": true
      },
      "cell_type": "code",
      "source": "tuple1 = (0, 1, 2, 3,[22,33])\nprint(tuple1)\nprint(id(tuple1))\n\n'''\n\ntuple1[2]=3   #Error\n\n'''\n#print(tuple1[4][1])\ntuple1[4][1] = 44\nprint(tuple1)\nprint(id(tuple1))\n\n\n\n\n",
      "execution_count": 96,
      "outputs": [
        {
          "output_type": "stream",
          "text": "(0, 1, 2, 3, [22, 33])\n140718874539288\n(0, 1, 2, 3, [22, 44])\n140718874539288\n",
          "name": "stdout"
        }
      ]
    },
    {
      "metadata": {
        "trusted": true
      },
      "cell_type": "code",
      "source": "# Code for concatenating 2 tuples\n \ntuple1 = (0, 1, 2, 3)\ntuple2 = ('python', 'code')\n'''\nprint(tuple1 + tuple2)\n\n# Concatenating above two\n\nprint('1:',id(tuple1))\nprint('2:',tuple1)\nprint('3:',id(tuple2))\nprint('4:',tuple2)\nnew_var = tuple1 + tuple2\nprint('5:',new_var)\nprint('6:',id(new_var))\n'''\n\n\nprint('tuple1 Before',id(tuple1))\nprint('tuple2 Before',id(tuple2))\ntuple1 = tuple2\nprint('tuple1 After',id(tuple1))\nprint('tuple2 After',id(tuple2))\nprint(tuple1)\n",
      "execution_count": 101,
      "outputs": [
        {
          "output_type": "stream",
          "text": "tuple1 Before 140718863144824\ntuple2 Before 140718866399176\ntuple1 After 140718866399176\ntuple2 After 140718866399176\n('python', 'code')\n",
          "name": "stdout"
        }
      ]
    },
    {
      "metadata": {
        "trusted": true
      },
      "cell_type": "code",
      "source": "list_ = [1,2]\nprint(list_)\nprint(id(list_))\nlist_.append(5)\nprint(list_)\nprint(id(list_))\nlist_",
      "execution_count": 102,
      "outputs": [
        {
          "output_type": "stream",
          "text": "[1, 2]\n140718863509960\n[1, 2, 5]\n140718863509960\n",
          "name": "stdout"
        },
        {
          "output_type": "execute_result",
          "execution_count": 102,
          "data": {
            "text/plain": "[1, 2, 5]"
          },
          "metadata": {}
        }
      ]
    },
    {
      "metadata": {},
      "cell_type": "markdown",
      "source": "### Nesting of Tuples."
    },
    {
      "metadata": {
        "trusted": true
      },
      "cell_type": "code",
      "source": "# Code for creating nested tuples\n \ntuple1 = (0, 1, 2, 3)\ntuple2 = ('python', 'code')\ntuple3 = (tuple1, tuple2)\ntuple4 = (tuple1+tuple2)\n#print(tuple3)\n\nprint(id(tuple1),id(tuple2),id(tuple3),id(tuple4))\nprint('Nested Tuple: ',tuple3)\nprint('Concatenated Tuple:',tuple4)",
      "execution_count": 105,
      "outputs": [
        {
          "output_type": "stream",
          "text": "140718863146264 140718866401160 140718866393736 140718863342280\nNested Tuple:  ((0, 1, 2, 3), ('python', 'code'))\nConcatenated Tuple: (0, 1, 2, 3, 'python', 'code')\n",
          "name": "stdout"
        }
      ]
    },
    {
      "metadata": {
        "trusted": true
      },
      "cell_type": "code",
      "source": "(tuple1,tuple2)",
      "execution_count": 75,
      "outputs": [
        {
          "output_type": "execute_result",
          "execution_count": 75,
          "data": {
            "text/plain": "((0, 1, 2, 3), ('python', 'code'))"
          },
          "metadata": {}
        }
      ]
    },
    {
      "metadata": {},
      "cell_type": "markdown",
      "source": "### Write a Python program to add an item in a tuple."
    },
    {
      "metadata": {
        "trusted": true
      },
      "cell_type": "code",
      "source": "#create a tuple\ntuplex = (4, 6, 2, 8, 3, 1) \nprint(tuplex)\nprint(id(tuplex))\n\n#tuples are immutable, so you can not add new elements\n#using merge of tuples with the + operator you can add an element and it will create a new tuple\nprint(type(tuplex))\n\n#adding items in a specific index\ntuplex2 = tuplex + (12,)\nprint(tuplex2)\nprint(id(tuplex2))\n",
      "execution_count": 109,
      "outputs": [
        {
          "output_type": "stream",
          "text": "(4, 6, 2, 8, 3, 1)\n140718874380424\n<class 'tuple'>\n(4, 6, 2, 8, 3, 1, 12)\n140718875489576\n",
          "name": "stdout"
        }
      ]
    },
    {
      "metadata": {},
      "cell_type": "markdown",
      "source": "### Write a Python program to remove an item from a tuple."
    },
    {
      "metadata": {
        "scrolled": true,
        "trusted": true
      },
      "cell_type": "code",
      "source": "#create a tuple\ntuplex = \"I\", \"D\", \"S\", \"P\", \"J\"\nprint(tuplex)\nprint(id(tuplex))\n\nlistx = list(tuplex) \nprint(listx)\nprint(id(listx))\n\n#use different ways to remove an item of the list\nlistx.remove(\"I\")\ntuplex = tuple(listx)\nprint(tuplex)\nprint(id(tuplex))",
      "execution_count": null,
      "outputs": []
    },
    {
      "metadata": {},
      "cell_type": "markdown",
      "source": "### Python Program to Check if a given key already exists in a dictionary."
    },
    {
      "metadata": {
        "trusted": true
      },
      "cell_type": "code",
      "source": "j = {1: [10,20], 2:'Apple'}\nj.get(1)",
      "execution_count": 10,
      "outputs": [
        {
          "output_type": "execute_result",
          "execution_count": 10,
          "data": {
            "text/plain": "[10, 20]"
          },
          "metadata": {}
        }
      ]
    },
    {
      "metadata": {
        "trusted": true
      },
      "cell_type": "code",
      "source": "10 in j",
      "execution_count": 33,
      "outputs": [
        {
          "output_type": "execute_result",
          "execution_count": 33,
          "data": {
            "text/plain": "False"
          },
          "metadata": {}
        }
      ]
    },
    {
      "metadata": {
        "trusted": true
      },
      "cell_type": "code",
      "source": "1 in j",
      "execution_count": 16,
      "outputs": [
        {
          "output_type": "execute_result",
          "execution_count": 16,
          "data": {
            "text/plain": "True"
          },
          "metadata": {}
        }
      ]
    },
    {
      "metadata": {
        "trusted": true
      },
      "cell_type": "code",
      "source": "d = {1: [10,20], 2: {'a':20,'b':'10'}, 3: {10,30}, 4: 40, 5: 50, 6: 60}\ndef is_key_present(x):\n  if x in d:\n      print(x,'Key is present in the dictionary')\n  else:\n      print(x,'Key is not present in the dictionary')\nis_key_present(5)\nis_key_present(10)\n\ne = d",
      "execution_count": 17,
      "outputs": [
        {
          "output_type": "stream",
          "text": "5 Key is present in the dictionary\n10 Key is not present in the dictionary\n",
          "name": "stdout"
        }
      ]
    },
    {
      "metadata": {
        "trusted": true
      },
      "cell_type": "code",
      "source": "#print(d)\nprint(d.get(2).get('b'))\n",
      "execution_count": 23,
      "outputs": [
        {
          "output_type": "stream",
          "text": "10\n{'a': 20, 'b': '10'}\n10\n",
          "name": "stdout"
        }
      ]
    },
    {
      "metadata": {
        "trusted": true
      },
      "cell_type": "code",
      "source": "30 in d",
      "execution_count": 4,
      "outputs": [
        {
          "output_type": "execute_result",
          "execution_count": 4,
          "data": {
            "text/plain": "False"
          },
          "metadata": {}
        }
      ]
    },
    {
      "metadata": {
        "trusted": true
      },
      "cell_type": "code",
      "source": "myset33 = d.get(3)",
      "execution_count": 5,
      "outputs": []
    },
    {
      "metadata": {
        "trusted": true
      },
      "cell_type": "code",
      "source": "\n\nmyset33.pop()",
      "execution_count": 6,
      "outputs": [
        {
          "output_type": "execute_result",
          "execution_count": 6,
          "data": {
            "text/plain": "10"
          },
          "metadata": {}
        }
      ]
    },
    {
      "metadata": {
        "trusted": true
      },
      "cell_type": "code",
      "source": "d",
      "execution_count": 8,
      "outputs": [
        {
          "output_type": "execute_result",
          "execution_count": 8,
          "data": {
            "text/plain": "{1: [10, 20], 2: {'a': 20, 'b': '10'}, 3: {30}, 4: 40, 5: 50, 6: 60}"
          },
          "metadata": {}
        }
      ]
    },
    {
      "metadata": {
        "trusted": true
      },
      "cell_type": "code",
      "source": "e",
      "execution_count": 9,
      "outputs": [
        {
          "output_type": "execute_result",
          "execution_count": 9,
          "data": {
            "text/plain": "{1: [10, 20], 2: {'a': 20, 'b': '10'}, 3: {30}, 4: 40, 5: 50, 6: 60}"
          },
          "metadata": {}
        }
      ]
    },
    {
      "metadata": {},
      "cell_type": "markdown",
      "source": "### Write a Python script to merge two Python dictionaries."
    },
    {
      "metadata": {
        "trusted": true
      },
      "cell_type": "code",
      "source": "d1 = {'a': 100, 'b': 200}\nd2 = {'x': 300, 'y': 200, 'a':700}\nd3 = d1.copy()\nd4 = d1\n\n\n'''\nprint('d1',id(d1))\n\nprint()\nprint()\n\nprint('d3',id(d3))\nprint('d4',id(d4))\n\n\n'''\n\n\nd1.update(d2)\nprint(d1)\nprint(d4)",
      "execution_count": 39,
      "outputs": [
        {
          "output_type": "stream",
          "text": "{'a': 700, 'b': 200, 'x': 300, 'y': 200}\n{'a': 700, 'b': 200, 'x': 300, 'y': 200}\n",
          "name": "stdout"
        }
      ]
    },
    {
      "metadata": {},
      "cell_type": "markdown",
      "source": "take out all keys from d & d2\niterate d  -> key:value \n        d2 -> key is present in dict or not? -> Not present: Add it to dict, if key present: extract existing value and list[exis,new] --> Add it back to key   "
    },
    {
      "metadata": {},
      "cell_type": "markdown",
      "source": "### Write a Python function to find the Max of three numbers."
    },
    {
      "metadata": {
        "trusted": true
      },
      "cell_type": "code",
      "source": "def max_of_two( x, y ):\n    if x > y:\n        return x\n    return y\ndef max_of_three( x, y, z ):\n    return max_of_two( x, max_of_two( y, z ) )\nprint(max_of_three(13, 26, -5))",
      "execution_count": null,
      "outputs": []
    },
    {
      "metadata": {
        "trusted": true
      },
      "cell_type": "code",
      "source": "max([13,26,-5,18,12,55])",
      "execution_count": null,
      "outputs": []
    },
    {
      "metadata": {
        "collapsed": true
      },
      "cell_type": "markdown",
      "source": "### Write a Python program to reverse a string."
    },
    {
      "metadata": {
        "trusted": true
      },
      "cell_type": "code",
      "source": "['I','N','S','A','I','D'][-2]",
      "execution_count": null,
      "outputs": []
    },
    {
      "metadata": {
        "trusted": true
      },
      "cell_type": "code",
      "source": "[1,2,3,4][::-1]",
      "execution_count": null,
      "outputs": []
    },
    {
      "metadata": {
        "trusted": true
      },
      "cell_type": "code",
      "source": "'INSAID'[::-1]",
      "execution_count": null,
      "outputs": []
    },
    {
      "metadata": {
        "trusted": true
      },
      "cell_type": "code",
      "source": "def string_reverse(str1):\n\n    rstr1 = ''\n    index = len(str1) - 1\n    #print(index)\n    while index >= 0:\n        rstr1 += str1[ index]               # a+=b --> a=a+b\n        #print(index,rstr1)\n        index = index - 1\n    return rstr1\nprint(string_reverse('WONDERFUL'))",
      "execution_count": null,
      "outputs": []
    },
    {
      "metadata": {
        "trusted": true
      },
      "cell_type": "code",
      "source": "string_reverse('INSAID')",
      "execution_count": null,
      "outputs": []
    },
    {
      "metadata": {
        "collapsed": true
      },
      "cell_type": "markdown",
      "source": "### Write a Python function to calculate the factorial of a number "
    },
    {
      "metadata": {
        "trusted": true
      },
      "cell_type": "code",
      "source": "def factorial(n):\n    print('value of n is',n)\n    if n==0:\n        print('Have reached 0 so returning 1')\n        return 1\n    else:\n        return n * factorial(n-1)\nn=int(input(\"Input a number to compute the factiorial : \"))\nprint(factorial(n))",
      "execution_count": 38,
      "outputs": [
        {
          "output_type": "stream",
          "name": "stdout",
          "text": "Input a number to compute the factiorial : 5\nvalue of n is 5\nvalue of n is 4\nvalue of n is 3\nvalue of n is 2\nvalue of n is 1\nvalue of n is 0\nHave reached 0 so returning 1\n120\n"
        }
      ]
    },
    {
      "metadata": {
        "trusted": true
      },
      "cell_type": "code",
      "source": "import math as mt\nmt.factorial(5)",
      "execution_count": 37,
      "outputs": [
        {
          "output_type": "execute_result",
          "execution_count": 37,
          "data": {
            "text/plain": "120"
          },
          "metadata": {}
        }
      ]
    },
    {
      "metadata": {},
      "cell_type": "markdown",
      "source": "### Write a Python function to sum all the numbers in a list."
    },
    {
      "metadata": {
        "trusted": true
      },
      "cell_type": "code",
      "source": "def sum1(numbers):\n    total = 0\n    for x in numbers:\n        total += x   # total = total + x\n    return total\nprint(sum1((8, 2, 3, 0, 7)))",
      "execution_count": null,
      "outputs": []
    },
    {
      "metadata": {
        "trusted": true
      },
      "cell_type": "code",
      "source": "sum((8, 2, 3, 0, 7))",
      "execution_count": null,
      "outputs": []
    },
    {
      "metadata": {
        "collapsed": true
      },
      "cell_type": "markdown",
      "source": "### Write a Python function to check whether a number is in a given range."
    },
    {
      "metadata": {
        "trusted": true
      },
      "cell_type": "code",
      "source": "a=4",
      "execution_count": null,
      "outputs": []
    },
    {
      "metadata": {
        "trusted": true
      },
      "cell_type": "code",
      "source": "print(range(3,9) )",
      "execution_count": null,
      "outputs": []
    },
    {
      "metadata": {
        "trusted": true
      },
      "cell_type": "code",
      "source": "def test_range(n):\n    if n in range(3,9):        # 3<=5 and 9>5\n        print( \" %s is in the range\" % n)\n    else :\n        print(\"The number is outside the given range.\")\ntest_range(8)",
      "execution_count": null,
      "outputs": []
    },
    {
      "metadata": {
        "trusted": true
      },
      "cell_type": "code",
      "source": "for a in range(3,9):\n    print(a)",
      "execution_count": null,
      "outputs": []
    },
    {
      "metadata": {
        "trusted": true
      },
      "cell_type": "code",
      "source": "for i in range(3,9):\n    print(i)\nprint(8 in range(3,9))",
      "execution_count": 42,
      "outputs": [
        {
          "output_type": "stream",
          "text": "3\n4\n5\n6\n7\n8\nTrue\n",
          "name": "stdout"
        }
      ]
    },
    {
      "metadata": {},
      "cell_type": "markdown",
      "source": "### Find the value of pi using math module."
    },
    {
      "metadata": {
        "trusted": true
      },
      "cell_type": "code",
      "source": "# import statement example\n# to import standard module math\n\nimport math\nprint(\"The value of pi is\", math.pi)",
      "execution_count": 43,
      "outputs": [
        {
          "output_type": "stream",
          "text": "The value of pi is 3.141592653589793\n",
          "name": "stdout"
        }
      ]
    },
    {
      "metadata": {
        "trusted": true
      },
      "cell_type": "code",
      "source": "math.factorial(7)",
      "execution_count": 44,
      "outputs": [
        {
          "output_type": "execute_result",
          "execution_count": 44,
          "data": {
            "text/plain": "5040"
          },
          "metadata": {}
        }
      ]
    },
    {
      "metadata": {},
      "cell_type": "markdown",
      "source": "### Write a Python program to read an entire text file.\n\n### Content of text.txt.\n\n### What is Python language?      \n\n#### Python is a widely used high-level, general-purpose, interpreted, dynamic programming language."
    },
    {
      "metadata": {
        "trusted": true
      },
      "cell_type": "code",
      "source": "print(open('test.txt').read())",
      "execution_count": 46,
      "outputs": [
        {
          "output_type": "stream",
          "text": "Hello\nMy file for storing Nothing\n",
          "name": "stdout"
        }
      ]
    },
    {
      "metadata": {
        "trusted": true
      },
      "cell_type": "code",
      "source": "def file_read(fname):\n        txt = open(fname)\n        print(txt.read())\nfile_read('test.txt')",
      "execution_count": 1,
      "outputs": [
        {
          "output_type": "stream",
          "text": "Hello\nMy file for storing Nothing\n",
          "name": "stdout"
        }
      ]
    },
    {
      "metadata": {
        "trusted": true
      },
      "cell_type": "code",
      "source": "file_var = open('test.txt')\nprint(file_var.read())",
      "execution_count": 4,
      "outputs": [
        {
          "output_type": "stream",
          "text": "Hello\nMy file for storing Nothing\n",
          "name": "stdout"
        }
      ]
    },
    {
      "metadata": {
        "scrolled": false,
        "trusted": true
      },
      "cell_type": "code",
      "source": "print(open('test.txt').read())",
      "execution_count": 5,
      "outputs": [
        {
          "output_type": "stream",
          "text": "Hello\nMy file for storing Nothing\n",
          "name": "stdout"
        }
      ]
    },
    {
      "metadata": {
        "tags": [
          "raises-exception"
        ],
        "trusted": true,
        "scrolled": false
      },
      "cell_type": "code",
      "source": "print(open('D:/etc/some.csv').read())",
      "execution_count": 49,
      "outputs": [
        {
          "output_type": "error",
          "ename": "FileNotFoundError",
          "evalue": "[Errno 2] No such file or directory: 'D:/etc/some.csv'",
          "traceback": [
            "\u001b[0;31m---------------------------------------------------------------------------\u001b[0m",
            "\u001b[0;31mFileNotFoundError\u001b[0m                         Traceback (most recent call last)",
            "\u001b[0;32m<ipython-input-49-4bac26ed991e>\u001b[0m in \u001b[0;36m<module>\u001b[0;34m\u001b[0m\n\u001b[0;32m----> 1\u001b[0;31m \u001b[0mprint\u001b[0m\u001b[0;34m(\u001b[0m\u001b[0mopen\u001b[0m\u001b[0;34m(\u001b[0m\u001b[0;34m'D:/etc/some.csv'\u001b[0m\u001b[0;34m)\u001b[0m\u001b[0;34m.\u001b[0m\u001b[0mread\u001b[0m\u001b[0;34m(\u001b[0m\u001b[0;34m)\u001b[0m\u001b[0;34m)\u001b[0m\u001b[0;34m\u001b[0m\u001b[0m\n\u001b[0m",
            "\u001b[0;31mFileNotFoundError\u001b[0m: [Errno 2] No such file or directory: 'D:/etc/some.csv'"
          ]
        }
      ]
    },
    {
      "metadata": {
        "collapsed": true
      },
      "cell_type": "markdown",
      "source": "### Write a Python program to read a file line by line and store it into a list."
    },
    {
      "metadata": {
        "trusted": true
      },
      "cell_type": "code",
      "source": "def file_read(fname):\n        with open(fname) as f:\n                #Content_list is the list that contains the read lines.\n                content_list = f.readlines()\n                print(content_list)\n\nfile_read('test.txt')",
      "execution_count": 9,
      "outputs": [
        {
          "output_type": "stream",
          "text": "['Hello\\n', 'My file for storing Nothing']\n",
          "name": "stdout"
        }
      ]
    },
    {
      "metadata": {
        "tags": [
          "raises-exception"
        ],
        "trusted": true
      },
      "cell_type": "code",
      "source": "1/0\nprint('Suchit')",
      "execution_count": 50,
      "outputs": [
        {
          "output_type": "error",
          "ename": "ZeroDivisionError",
          "evalue": "division by zero",
          "traceback": [
            "\u001b[0;31m---------------------------------------------------------------------------\u001b[0m",
            "\u001b[0;31mZeroDivisionError\u001b[0m                         Traceback (most recent call last)",
            "\u001b[0;32m<ipython-input-50-06633db22b73>\u001b[0m in \u001b[0;36m<module>\u001b[0;34m\u001b[0m\n\u001b[0;32m----> 1\u001b[0;31m \u001b[0;36m1\u001b[0m\u001b[0;34m/\u001b[0m\u001b[0;36m0\u001b[0m\u001b[0;34m\u001b[0m\u001b[0m\n\u001b[0m\u001b[1;32m      2\u001b[0m \u001b[0mprint\u001b[0m\u001b[0;34m(\u001b[0m\u001b[0;34m'Suchit'\u001b[0m\u001b[0;34m)\u001b[0m\u001b[0;34m\u001b[0m\u001b[0m\n",
            "\u001b[0;31mZeroDivisionError\u001b[0m: division by zero"
          ]
        }
      ]
    },
    {
      "metadata": {
        "trusted": true
      },
      "cell_type": "code",
      "source": "my_list = [1,2,3,4,0,5,6,7,8,0,9,10,11,12,14,15]\nfor denominator in my_list:\n        sal = 10/denominator\n        #print(sal)\n        print(denominator,'executed successfully')\n",
      "execution_count": 52,
      "outputs": [
        {
          "output_type": "stream",
          "text": "1 executed successfully\n2 executed successfully\n3 executed successfully\n4 executed successfully\n",
          "name": "stdout"
        },
        {
          "output_type": "error",
          "ename": "ZeroDivisionError",
          "evalue": "division by zero",
          "traceback": [
            "\u001b[0;31m---------------------------------------------------------------------------\u001b[0m",
            "\u001b[0;31mZeroDivisionError\u001b[0m                         Traceback (most recent call last)",
            "\u001b[0;32m<ipython-input-52-705a8ba95052>\u001b[0m in \u001b[0;36m<module>\u001b[0;34m\u001b[0m\n\u001b[1;32m      1\u001b[0m \u001b[0mmy_list\u001b[0m \u001b[0;34m=\u001b[0m \u001b[0;34m[\u001b[0m\u001b[0;36m1\u001b[0m\u001b[0;34m,\u001b[0m\u001b[0;36m2\u001b[0m\u001b[0;34m,\u001b[0m\u001b[0;36m3\u001b[0m\u001b[0;34m,\u001b[0m\u001b[0;36m4\u001b[0m\u001b[0;34m,\u001b[0m\u001b[0;36m0\u001b[0m\u001b[0;34m,\u001b[0m\u001b[0;36m5\u001b[0m\u001b[0;34m,\u001b[0m\u001b[0;36m6\u001b[0m\u001b[0;34m,\u001b[0m\u001b[0;36m7\u001b[0m\u001b[0;34m,\u001b[0m\u001b[0;36m8\u001b[0m\u001b[0;34m,\u001b[0m\u001b[0;36m0\u001b[0m\u001b[0;34m,\u001b[0m\u001b[0;36m9\u001b[0m\u001b[0;34m,\u001b[0m\u001b[0;36m10\u001b[0m\u001b[0;34m,\u001b[0m\u001b[0;36m11\u001b[0m\u001b[0;34m,\u001b[0m\u001b[0;36m12\u001b[0m\u001b[0;34m,\u001b[0m\u001b[0;36m14\u001b[0m\u001b[0;34m,\u001b[0m\u001b[0;36m15\u001b[0m\u001b[0;34m]\u001b[0m\u001b[0;34m\u001b[0m\u001b[0m\n\u001b[1;32m      2\u001b[0m \u001b[0;32mfor\u001b[0m \u001b[0mdenominator\u001b[0m \u001b[0;32min\u001b[0m \u001b[0mmy_list\u001b[0m\u001b[0;34m:\u001b[0m\u001b[0;34m\u001b[0m\u001b[0m\n\u001b[0;32m----> 3\u001b[0;31m         \u001b[0msal\u001b[0m \u001b[0;34m=\u001b[0m \u001b[0;36m10\u001b[0m\u001b[0;34m/\u001b[0m\u001b[0mdenominator\u001b[0m\u001b[0;34m\u001b[0m\u001b[0m\n\u001b[0m\u001b[1;32m      4\u001b[0m         \u001b[0;31m#print(sal)\u001b[0m\u001b[0;34m\u001b[0m\u001b[0;34m\u001b[0m\u001b[0m\n\u001b[1;32m      5\u001b[0m         \u001b[0mprint\u001b[0m\u001b[0;34m(\u001b[0m\u001b[0mdenominator\u001b[0m\u001b[0;34m,\u001b[0m\u001b[0;34m'executed successfully'\u001b[0m\u001b[0;34m)\u001b[0m\u001b[0;34m\u001b[0m\u001b[0m\n",
            "\u001b[0;31mZeroDivisionError\u001b[0m: division by zero"
          ]
        }
      ]
    },
    {
      "metadata": {
        "trusted": true
      },
      "cell_type": "code",
      "source": "my_list = [1,2,3,4,0,5,6,7,8,0,9,10,11,12,14,15]\nfor denominator in my_list:\n    try:\n        sal = 10/denominator\n        print(denominator,'executed successfully')\n    except Exception as e: \n        print('This employee has left the organization:',denominator,e)    ",
      "execution_count": 53,
      "outputs": [
        {
          "output_type": "stream",
          "text": "1 executed successfully\n2 executed successfully\n3 executed successfully\n4 executed successfully\nThis employee has left the organization: 0 division by zero\n5 executed successfully\n6 executed successfully\n7 executed successfully\n8 executed successfully\nThis employee has left the organization: 0 division by zero\n9 executed successfully\n10 executed successfully\n11 executed successfully\n12 executed successfully\n14 executed successfully\n15 executed successfully\n",
          "name": "stdout"
        }
      ]
    },
    {
      "metadata": {},
      "cell_type": "markdown",
      "source": "### A python program to create user-defined exception."
    },
    {
      "metadata": {
        "tags": [
          "raises-exception"
        ],
        "trusted": true
      },
      "cell_type": "code",
      "source": "print(10)\nprint(1)\nif 3>2:\n    print(1/0)\nprint(100)\n",
      "execution_count": 54,
      "outputs": [
        {
          "output_type": "stream",
          "text": "10\n1\n",
          "name": "stdout"
        },
        {
          "output_type": "error",
          "ename": "ZeroDivisionError",
          "evalue": "division by zero",
          "traceback": [
            "\u001b[0;31m---------------------------------------------------------------------------\u001b[0m",
            "\u001b[0;31mZeroDivisionError\u001b[0m                         Traceback (most recent call last)",
            "\u001b[0;32m<ipython-input-54-73931fd168aa>\u001b[0m in \u001b[0;36m<module>\u001b[0;34m\u001b[0m\n\u001b[1;32m      2\u001b[0m \u001b[0mprint\u001b[0m\u001b[0;34m(\u001b[0m\u001b[0;36m1\u001b[0m\u001b[0;34m)\u001b[0m\u001b[0;34m\u001b[0m\u001b[0m\n\u001b[1;32m      3\u001b[0m \u001b[0;32mif\u001b[0m \u001b[0;36m3\u001b[0m\u001b[0;34m>\u001b[0m\u001b[0;36m2\u001b[0m\u001b[0;34m:\u001b[0m\u001b[0;34m\u001b[0m\u001b[0m\n\u001b[0;32m----> 4\u001b[0;31m     \u001b[0mprint\u001b[0m\u001b[0;34m(\u001b[0m\u001b[0;36m1\u001b[0m\u001b[0;34m/\u001b[0m\u001b[0;36m0\u001b[0m\u001b[0;34m)\u001b[0m\u001b[0;34m\u001b[0m\u001b[0m\n\u001b[0m\u001b[1;32m      5\u001b[0m \u001b[0mprint\u001b[0m\u001b[0;34m(\u001b[0m\u001b[0;36m100\u001b[0m\u001b[0;34m)\u001b[0m\u001b[0;34m\u001b[0m\u001b[0m\n",
            "\u001b[0;31mZeroDivisionError\u001b[0m: division by zero"
          ]
        }
      ]
    },
    {
      "metadata": {
        "tags": [
          "raises-exception"
        ],
        "trusted": true
      },
      "cell_type": "markdown",
      "source": "if(emloyee_LWD < today()):\n    raise retiredException(emloyee_LWD)"
    },
    {
      "metadata": {},
      "cell_type": "markdown",
      "source": "retiredException: The employee retired on 22-10-2005"
    },
    {
      "metadata": {
        "tags": [
          "raises-exception"
        ],
        "trusted": true
      },
      "cell_type": "code",
      "source": "1/0\nprint('hi')",
      "execution_count": null,
      "outputs": []
    },
    {
      "metadata": {
        "tags": [
          "raises-exception"
        ],
        "trusted": true
      },
      "cell_type": "code",
      "source": "myList = [1,2,3,0,4,5]\n\nfor i in myList:\n    10/i\n    print('hi')\n",
      "execution_count": null,
      "outputs": []
    },
    {
      "metadata": {
        "trusted": true
      },
      "cell_type": "code",
      "source": "myList = [1,2,3,0,5,6]\n\nfor idx,i in enumerate(myList):\n    try:\n        #open('D:/etc/some.csv')\n        \n        10/i\n        print(i,'hi')   \n    except Exception as e:\n        print('Index where it failed',idx)\n        print('Value that failed',i)",
      "execution_count": 40,
      "outputs": [
        {
          "output_type": "stream",
          "text": "1 hi\n2 hi\n3 hi\nIndex where it failed 3\nValue that failed 0\n5 hi\n6 hi\n",
          "name": "stdout"
        }
      ]
    },
    {
      "metadata": {
        "trusted": true
      },
      "cell_type": "code",
      "source": "class SatyamError(Exception):\n \n    # Constructor or Initializer\n    def __init__(self, value):\n        self.value = value\n \n    # __str__ is to print() the value\n    def __str__(self):\n        return('Satyam says the employee has left the organization. EmpID:  '+str(self.value))\n",
      "execution_count": 72,
      "outputs": []
    },
    {
      "metadata": {
        "trusted": true
      },
      "cell_type": "code",
      "source": "class DPSE(Exception):\n \n    # Constructor or Initializer\n    def __init__(self, value):\n        self.value = value\n \n    # __str__ is to print() the value\n    def __str__(self):\n        return('Suchit says the employee is a vendor. EmpID:  '+str(self.value.get('id'))+' Name:'+str(self.value.get('name')))\n",
      "execution_count": 78,
      "outputs": []
    },
    {
      "metadata": {
        "tags": [
          "raises-exception"
        ],
        "trusted": true
      },
      "cell_type": "code",
      "source": "class LWDE(Exception):\n \n    # Constructor or Initializer\n    def __init__(self, value):\n        self.value = value\n \n    # __str__ is to print() the value\n    def __str__(self):\n        return('Suchit says the employee has left the organization. EmpID:  '+str(self.value))\n\ntry:\n    # Process salaries for employee ids 1-200\n    # Task 1-100 \n    #if(emp.lwd < today()):\n    #raise(LWDE(101))\n    \n    \n    #raise(SatyamError(12345))\n    # Task 101-200\n    #if(emp.vendor===True):\n    raise(DPSE({'id':110,'name':'Jothi'}))\n    print(\"done\")\nexcept LWDE as error:\n     # Move the employee to Retired Database from active employee db\n     print(error)\n\nexcept DPSE as error:\n     # Move the employee to Retired Database from active employee db\n     print(error)\n\n    \nexcept SatyamError as error:\n     # Move the employee to Retired Database from active employee db\n     print(error)\n    \nexcept Exception as ex:\n     print(ex)\n\nfinally:\n    print(\"done1\")\nprint(\"Smooth\")    \n",
      "execution_count": 79,
      "outputs": [
        {
          "output_type": "stream",
          "text": "Suchit says the employee is a vendor. EmpID:  110 Name:Jothi\ndone1\nSmooth\n",
          "name": "stdout"
        }
      ]
    },
    {
      "metadata": {
        "trusted": true
      },
      "cell_type": "code",
      "source": "",
      "execution_count": null,
      "outputs": []
    },
    {
      "metadata": {
        "trusted": true
      },
      "cell_type": "code",
      "source": "a = -7\nprint(~a)",
      "execution_count": 75,
      "outputs": [
        {
          "output_type": "stream",
          "text": "6\n",
          "name": "stdout"
        }
      ]
    },
    {
      "metadata": {},
      "cell_type": "markdown",
      "source": "### Write a Python program to calculate the discriminant value."
    },
    {
      "metadata": {
        "scrolled": true,
        "trusted": true
      },
      "cell_type": "code",
      "source": "def discriminant(a_value,b_value,c_value):\n    discriminant = (b_value**2) - (4*a_value*c_value)\n    if discriminant > 0:\n        print('Two Solutions. Discriminant value is:', discriminant)\n    elif discriminant == 0:\n        print('One Solution. Discriminant value is:', discriminant)\n    elif discriminant < 0:\n        print('No Real Solutions. Discriminant value is:', discriminant)\n    return 'discriminant: ' + str(discriminant)\n\n\nprint(discriminant(4,4,1))\nprint(discriminant(3,15,7))\nprint(discriminant(5,5,2))",
      "execution_count": 41,
      "outputs": [
        {
          "output_type": "stream",
          "text": "One Solution. Discriminant value is: 0\ndiscriminant: 0\nTwo Solutions. Discriminant value is: 141\ndiscriminant: 141\nNo Real Solutions. Discriminant value is: -15\ndiscriminant: -15\n",
          "name": "stdout"
        }
      ]
    },
    {
      "metadata": {
        "trusted": true
      },
      "cell_type": "code",
      "source": "lst  =  [x ** 2  for x in range (1, 11)   if  x % 2 == 1] \nlst",
      "execution_count": null,
      "outputs": []
    },
    {
      "metadata": {
        "trusted": true
      },
      "cell_type": "code",
      "source": "def mybool(number):\n    if (number*6+2)%17 == 0:\n        return True\n    elif (number*21+12)%43 == 2:\n        return True\n    else: False",
      "execution_count": 46,
      "outputs": []
    },
    {
      "metadata": {
        "trusted": true
      },
      "cell_type": "code",
      "source": "def mybool(number):\n    if number%2 == 0:\n        return True\n    else: False",
      "execution_count": 49,
      "outputs": []
    },
    {
      "metadata": {
        "trusted": true
      },
      "cell_type": "code",
      "source": "lst1 = [num**2 for num in range(1,11) if mybool(num)]\nlst1",
      "execution_count": 51,
      "outputs": [
        {
          "output_type": "execute_result",
          "execution_count": 51,
          "data": {
            "text/plain": "[4, 16, 36, 64, 100]"
          },
          "metadata": {}
        }
      ]
    },
    {
      "metadata": {
        "trusted": true
      },
      "cell_type": "code",
      "source": "even_sq = [num**2 for num in range(1,11) if num%2 == 0]\neven_sq",
      "execution_count": 82,
      "outputs": [
        {
          "output_type": "execute_result",
          "execution_count": 82,
          "data": {
            "text/plain": "[4, 16, 36, 64, 100]"
          },
          "metadata": {}
        }
      ]
    },
    {
      "metadata": {
        "trusted": true
      },
      "cell_type": "code",
      "source": "for i in range(1,11):\n    if i%2 == 0:\n        print(i**2,end=',')\n    else:\n        print(i,end=',')",
      "execution_count": 56,
      "outputs": [
        {
          "output_type": "stream",
          "text": "1,4,3,16,5,36,7,64,9,100,",
          "name": "stdout"
        }
      ]
    },
    {
      "metadata": {
        "trusted": true
      },
      "cell_type": "code",
      "source": "#'Suchit'[::-1]\nstr1 = ''\nfor a in 'Suchit':\n    #str1 = str1 + a\n    str1 = a + str1\n    print(str1)\n    \nprint(str1)",
      "execution_count": null,
      "outputs": []
    },
    {
      "metadata": {
        "trusted": true
      },
      "cell_type": "code",
      "source": "a = 32\n\nif a<25:\n    print('A')\nelif a<35:\n    print('B')\nelif a<45:\n    print('C')\n",
      "execution_count": null,
      "outputs": []
    },
    {
      "metadata": {
        "trusted": true
      },
      "cell_type": "code",
      "source": "a = 9\nwhile a>0:\n    print(a)\n    #a-=1",
      "execution_count": null,
      "outputs": []
    },
    {
      "metadata": {
        "trusted": true
      },
      "cell_type": "code",
      "source": "mylambdafunction = lambda r: 3.14*r*r\nprint(mylambdafunction(10))",
      "execution_count": 87,
      "outputs": [
        {
          "output_type": "stream",
          "text": "314.0\n",
          "name": "stdout"
        }
      ]
    },
    {
      "metadata": {
        "trusted": true
      },
      "cell_type": "code",
      "source": "salary = [10,20,12,5]\nlist(map(lambda x: x*1.1,salary))",
      "execution_count": 89,
      "outputs": [
        {
          "output_type": "execute_result",
          "execution_count": 89,
          "data": {
            "text/plain": "[11.0, 22.0, 13.200000000000001, 5.5]"
          },
          "metadata": {}
        }
      ]
    },
    {
      "metadata": {},
      "cell_type": "markdown",
      "source": ""
    }
  ],
  "metadata": {
    "kernelspec": {
      "name": "python36",
      "display_name": "Python 3.6",
      "language": "python"
    },
    "language_info": {
      "mimetype": "text/x-python",
      "nbconvert_exporter": "python",
      "name": "python",
      "pygments_lexer": "ipython3",
      "version": "3.6.6",
      "file_extension": ".py",
      "codemirror_mode": {
        "version": 3,
        "name": "ipython"
      }
    }
  },
  "nbformat": 4,
  "nbformat_minor": 2
}